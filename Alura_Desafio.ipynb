{
  "nbformat": 4,
  "nbformat_minor": 0,
  "metadata": {
    "colab": {
      "provenance": [],
      "authorship_tag": "ABX9TyPflK3K7yjJ2ZRLfsOkt5pw",
      "include_colab_link": true
    },
    "kernelspec": {
      "name": "python3",
      "display_name": "Python 3"
    },
    "language_info": {
      "name": "python"
    }
  },
  "cells": [
    {
      "cell_type": "markdown",
      "metadata": {
        "id": "view-in-github",
        "colab_type": "text"
      },
      "source": [
        "<a href=\"https://colab.research.google.com/github/GuCastagna/ti_seguranca_do_trabalho/blob/main/Alura_Desafio.ipynb\" target=\"_parent\"><img src=\"https://colab.research.google.com/assets/colab-badge.svg\" alt=\"Open In Colab\"/></a>"
      ]
    },
    {
      "cell_type": "code",
      "execution_count": null,
      "metadata": {
        "id": "bz1yfqrnsjOr"
      },
      "outputs": [],
      "source": [
        "!pip install -U -q google-generativeai\n",
        "\n",
        "#importações e configurações iniciais\n",
        "import pandas as pd\n",
        "import google.generativeai as genai\n",
        "\n",
        "GOOGLE_API_KEY = 'insira uma API KEY válida'\n",
        "genai.configure(api_key = GOOGLE_API_KEY)"
      ]
    },
    {
      "cell_type": "code",
      "source": [
        "for m in genai.list_models():\n",
        "  if 'embedContent'in m.supported_generation_methods:\n",
        "    print(m.name)"
      ],
      "metadata": {
        "colab": {
          "base_uri": "https://localhost:8080/",
          "height": 53
        },
        "id": "cX6WlVzPz19M",
        "outputId": "c5504da8-8059-4326-a5e5-dadde1f1fb89"
      },
      "execution_count": null,
      "outputs": [
        {
          "output_type": "stream",
          "name": "stdout",
          "text": [
            "models/embedding-001\n",
            "models/text-embedding-004\n"
          ]
        }
      ]
    },
    {
      "cell_type": "code",
      "source": [
        "import json\n",
        "import datetime\n",
        "import pandas as pd\n",
        "\n",
        "def registrar_acidente():\n",
        "    acidente = {}\n",
        "    acidente[\"Nome do Acidentado\"] = input(\"Nome do Acidentado: \")\n",
        "    acidente[\"Hora do Acidente\"] = input(\"Hora do Acidente: \")\n",
        "    acidente[\"Horas Trabalhadas\"] = int(input(\"Horas Trabalhadas: \"))\n",
        "    acidente[\"Tipo de Acidente\"] = input(\"Tipo de Acidente: \")\n",
        "    acidente[\"Se Afastado\"] = input(\"Se Afastado (Sim/Não): \").upper()\n",
        "    acidente[\"Dia Trabalhado\"] = input(\"Dia Trabalhado: \")\n",
        "    acidente[\"Local do Acidente\"] = input(\"Local do Acidente: \")\n",
        "    acidente[\"Local Específico do Acidente\"] = input(\"Local Específico do Acidente: \")\n",
        "    acidente[\"CGC/CNPJ\"] = input(\"CGC/CNPJ: \")\n",
        "    acidente[\"UF\"] = input(\"UF: \")\n",
        "    acidente[\"Município\"] = input(\"Município: \")\n",
        "    acidente[\"Parte do Corpo Atingida\"] = input(\"Parte do Corpo Atingida: \")\n",
        "    acidente[\"Agente Causador\"] = input(\"Agente Causador: \")\n",
        "    acidente[\"Descrição do Acidente\"] = input(\"Descrição do Acidente: \")\n",
        "    acidente[\"Ocorrência Policial\"] = input(\"Ocorrência Policial (Sim/Não): \").upper()\n",
        "    acidente[\"Houve Morte\"] = input(\"Houve Morte (Sim/Não): \").upper()\n",
        "\n",
        "    if acidente[\"Houve Morte\"] == \"SIM\":\n",
        "        print(\"\\n*** ATENÇÃO! Acidente com vítima fatal! ***\")\n",
        "        print(\"Ligando para o SAMU (simulação):\")\n",
        "        print('\"Oh meu Deus! Ele não está respirando! Por favor, mandem uma ambulância rápido! Ele precisa de ajuda! Por favor, se apressem!\"')\n",
        "    else:\n",
        "        acidente[\"Nome da 1ª Testemunha\"] = input(\"Nome da 1ª Testemunha: \")\n",
        "        acidente[\"Endereço da 1ª Testemunha\"] = input(\"Endereço da 1ª Testemunha: \")\n",
        "        acidente[\"Nome da 2ª Testemunha\"] = input(\"Nome da 2ª Testemunha: \")\n",
        "        acidente[\"Endereço da 2ª Testemunha\"] = input(\"Endereço da 2ª Testemunha: \")\n",
        "        acidente[\"Descrição da Lesão\"] = input(\"Descrição da Lesão: \")\n",
        "        acidente[\"Diagnóstico da Lesão\"] = input(\"Diagnóstico da Lesão: \")\n",
        "        acidente[\"Duração do Afastamento\"] = int(input(\"Duração do Afastamento (dias): \"))\n",
        "        acidente[\"Observações do Diagnóstico\"] = input(\"Observações do Diagnóstico: \")\n",
        "        print(\"\\nComunicando o INSS (simulação):\")\n",
        "        print(\"Prezados, comunicamos um acidente de trabalho com o colaborador {nome}, ocorrido em {data}. Mais informações serão fornecidas posteriormente.\".format(nome=acidente[\"Nome do Acidentado\"], data=acidente[\"Dia Trabalhado\"]))\n",
        "\n",
        "    acidente[\"Data de Emissão\"] = datetime.date.today().strftime(\"%Y-%m-%d\")\n",
        "    acidente[\"Data do Atendimento\"] = input(\"Data do Atendimento: \")\n",
        "\n",
        "    return acidente\n",
        "\n",
        "def salvar_relatorio(acidente):\n",
        "    # Simulação de salvamento em arquivo JSON (GitHub não permite escrita direta)\n",
        "    # Em um ambiente real, você integraria com a API do GitHub.\n",
        "    nome_arquivo = f\"relatorio_acidentes.json\"\n",
        "    with open(nome_arquivo, \"w\") as f:\n",
        "        json.dump(acidente, f, indent=4)\n",
        "    print(f\"Relatório salvo em: {nome_arquivo}\")\n",
        "\n",
        "def exibir_relatorio(acidente):\n",
        "    df = pd.DataFrame([acidente])\n",
        "    print(\"\\nRelatório Completo:\\n\")\n",
        "    print(df.to_string())\n",
        "\n",
        "acidente = registrar_acidente()\n",
        "salvar_relatorio(acidente)\n",
        "exibir_relatorio(acidente)"
      ],
      "metadata": {
        "colab": {
          "base_uri": "https://localhost:8080/"
        },
        "id": "4WYpqPRuqY1K",
        "outputId": "7e6b2583-8ad9-4e72-b2e8-ef97fa65db08"
      },
      "execution_count": null,
      "outputs": [
        {
          "output_type": "stream",
          "name": "stdout",
          "text": [
            "Nome do Acidentado: Lucas Moura\n",
            "Hora do Acidente: 13:44\n",
            "Horas Trabalhadas: 84\n",
            "Tipo de Acidente: Queda\n",
            "Se Afastado (Sim/Não): Sim\n",
            "Dia Trabalhado: 6\n",
            "Local do Acidente: Academia\n",
            "Local Específico do Acidente: Chão\n",
            "CGC/CNPJ: 81.741.945-0002.60\n",
            "UF: TO\n",
            "Município: Mata\n",
            "Parte do Corpo Atingida: Peito\n",
            "Agente Causador: Anilha\n",
            "Descrição do Acidente: Anilha atinge peito de funcionário e o mesmo bate a cabeça no chão.\n",
            "Ocorrência Policial (Sim/Não): Não\n",
            "Houve Morte (Sim/Não): Não\n",
            "Nome da 1ª Testemunha: Gustavo Batista Castagna\n",
            "Endereço da 1ª Testemunha: Rua Alagoas, 20\n",
            "Nome da 2ª Testemunha: Cristiano Moura\n",
            "Endereço da 2ª Testemunha: Rua Polara, 60\n",
            "Descrição da Lesão: Afundamento de peito\n",
            "Diagnóstico da Lesão: Precisa de cirurgia de reconstituição do peito e gelo na cabeça.\n",
            "Duração do Afastamento (dias): 15\n",
            "Observações do Diagnóstico: Precisa de fisioterapia e máscara de oxigênio.\n",
            "\n",
            "Comunicando o INSS (simulação):\n",
            "Prezados, comunicamos um acidente de trabalho com o colaborador Lucas Moura, ocorrido em 6. Mais informações serão fornecidas posteriormente.\n",
            "Data do Atendimento: 9/6/2020\n",
            "Relatório salvo em: relatorio_acidentes.json\n",
            "\n",
            "Relatório Completo:\n",
            "\n",
            "  Nome do Acidentado Hora do Acidente  Horas Trabalhadas Tipo de Acidente Se Afastado Dia Trabalhado Local do Acidente Local Específico do Acidente            CGC/CNPJ  UF Município Parte do Corpo Atingida Agente Causador                                                Descrição do Acidente Ocorrência Policial Houve Morte     Nome da 1ª Testemunha Endereço da 1ª Testemunha Nome da 2ª Testemunha Endereço da 2ª Testemunha    Descrição da Lesão                                              Diagnóstico da Lesão  Duração do Afastamento                      Observações do Diagnóstico Data de Emissão Data do Atendimento\n",
            "0        Lucas Moura            13:44                 84            Queda         SIM              6          Academia                         Chão  81.741.945-0002.60  TO      Mata                   Peito          Anilha  Anilha atinge peito de funcionário e o mesmo bate a cabeça no chão.                 NÃO         NÃO  Gustavo Batista Castagna           Rua Alagoas, 20       Cristiano Moura            Rua Polara, 60  Afundamento de peito  Precisa de cirurgia de reconstituição do peito e gelo na cabeça.                      15  Precisa de fisioterapia e máscara de oxigênio.      2024-05-11            9/6/2020\n"
          ]
        }
      ]
    },
    {
      "cell_type": "code",
      "source": [
        "import requests\n",
        "import json\n",
        "import pandas as pd\n",
        "\n",
        "def acessar_acidentes_github(usuario, repositorio, caminho_arquivo):\n",
        "    url = f\"https://github.com/GuCastagna/ti_seguranca_do_trabalho/relatorio_acidentes.json\"\n",
        "    response = requests.get(url)\n",
        "\n",
        "    if response.status_code == 200:\n",
        "        return json.loads(response.content)\n",
        "    else:\n",
        "        print(f\"Erro ao acessar arquivo no GitHub: {response.status_code}\")\n",
        "        return None\n",
        "\n",
        "def analisar_acidentes(dados_acidentes):\n",
        "    df = pd.DataFrame(dados_acidentes)\n",
        "\n",
        "    while True:\n",
        "        print(\"\\nEscolha uma análise:\")\n",
        "        print(\"1. Total de acidentados\")\n",
        "        print(\"2. Afastamentos com mais de 30 dias\")\n",
        "        print(\"3. Reincidência de acidentes por empresa\")\n",
        "        print(\"4. Acidentes por agente causador\")\n",
        "        print(\"5. Total de mortes\")\n",
        "        print(\"6. Histórico de acidentes por colaborador\")\n",
        "        print(\"7. Sair\")\n",
        "\n",
        "        escolha = input(\"Digite o número da análise desejada: \")\n",
        "\n",
        "        if escolha == '1':\n",
        "            total_acidentados = len(df)\n",
        "            print(f\"Total de acidentados: {total_acidentados}\")\n",
        "        elif escolha == '2':\n",
        "            afastamentos_longos = df[df[\"Duração do Afastamento\"] > 30].shape[0]\n",
        "            print(f\"Afastamentos com mais de 30 dias: {afastamentos_longos}\")\n",
        "        elif escolha == '3':\n",
        "            empresas_reincidentes = df[\"CGC/CNPJ\"].value_counts()\n",
        "            print(\"\\nEmpresas com múltiplos acidentes:\\n\")\n",
        "            print(empresas_reincidentes)\n",
        "        elif escolha == '4':\n",
        "            agentes_causadores = df[\"Agente Causador\"].value_counts()\n",
        "            print(\"\\nAcidentes por agente causador:\\n\")\n",
        "            print(agentes_causadores)\n",
        "        elif escolha == '5':\n",
        "            mortes = df[df[\"Houve Morte\"] == \"SIM\"].shape[0]\n",
        "            print(f\"Total de mortes: {mortes}\")\n",
        "        elif escolha == '6':\n",
        "            nome_colaborador = input(\"Digite o nome do colaborador: \")\n",
        "            historico_colaborador = df[df[\"Nome do Acidentado\"] == nome_colaborador].shape[0]\n",
        "            print(f\"Acidentes registrados para {nome_colaborador}: {historico_colaborador}\")\n",
        "        elif escolha == '7':\n",
        "            break\n",
        "        else:\n",
        "            print(\"Opção inválida. Tente novamente.\")\n",
        "\n",
        "# Configurar acesso ao GitHub\n",
        "usuario_github = \"GuCastagna\"\n",
        "repositorio_github = \"ti_seguranca_do_trabalho\"\n",
        "caminho_arquivo_json = \"relatorio_acidentes.json\"  # Substitua pelo nome real do arquivo\n",
        "\n",
        "# Acessar dados do GitHub\n",
        "dados_acidentes = acessar_acidentes_github(usuario_github, repositorio_github, caminho_arquivo_json)\n",
        "\n",
        "# Realizar análises se os dados foram carregados com sucesso\n",
        "if dados_acidentes:\n",
        "    analisar_acidentes(dados_acidentes)"
      ],
      "metadata": {
        "colab": {
          "base_uri": "https://localhost:8080/"
        },
        "id": "DFyj7_QXyqSS",
        "outputId": "1d02a3b0-2edd-4ed0-b90e-0f3f534d5802"
      },
      "execution_count": null,
      "outputs": [
        {
          "output_type": "stream",
          "name": "stdout",
          "text": [
            "Erro ao acessar arquivo no GitHub: 404\n"
          ]
        }
      ]
    }
  ]
}